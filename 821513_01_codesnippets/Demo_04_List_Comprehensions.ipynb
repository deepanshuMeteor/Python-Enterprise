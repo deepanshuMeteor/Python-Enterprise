{
 "cells": [
  {
   "cell_type": "markdown",
   "metadata": {
    "id": "Atsfg1zBNbsF"
   },
   "source": [
    "# Demo 04 - List Comprehensions"
   ]
  },
  {
   "cell_type": "markdown",
   "metadata": {
    "id": "83cD1TH6NbsG"
   },
   "source": [
    "We will go through practical ways of optimizing list comprehensions using Python."
   ]
  },
  {
   "cell_type": "markdown",
   "metadata": {
    "id": "2zsY8qSzNbsH"
   },
   "source": [
    "### Creation"
   ]
  },
  {
   "cell_type": "code",
   "execution_count": 5,
   "metadata": {
    "id": "m8N-xNIgNbsH"
   },
   "outputs": [],
   "source": [
    "my_skillsoft_ids = [id for id in range(15)]"
   ]
  },
  {
   "cell_type": "code",
   "execution_count": 6,
   "metadata": {
    "colab": {
     "base_uri": "https://localhost:8080/"
    },
    "id": "MTq7LP-Ugl2o",
    "outputId": "eac0b17a-a6b1-4a69-d24f-273ba8f7ffa9"
   },
   "outputs": [
    {
     "data": {
      "text/plain": [
       "[0, 1, 2, 3, 4, 5, 6, 7, 8, 9, 10, 11, 12, 13, 14]"
      ]
     },
     "execution_count": 6,
     "metadata": {},
     "output_type": "execute_result"
    }
   ],
   "source": [
    "my_skillsoft_numbers"
   ]
  },
  {
   "cell_type": "markdown",
   "metadata": {
    "id": "2icZJjQrNbsI"
   },
   "source": [
    "### Iteration"
   ]
  },
  {
   "cell_type": "code",
   "execution_count": 13,
   "metadata": {
    "id": "XEMxOGDyNbsI"
   },
   "outputs": [],
   "source": [
    "my_skillsoft_id = \"445566\""
   ]
  },
  {
   "cell_type": "code",
   "execution_count": 14,
   "metadata": {
    "id": "HB5AV1F0kqX7"
   },
   "outputs": [],
   "source": [
    "skillsoft_student_id = [char for char in my_skillsoft_id]"
   ]
  },
  {
   "cell_type": "code",
   "execution_count": 15,
   "metadata": {},
   "outputs": [
    {
     "data": {
      "text/plain": [
       "['4', '4', '5', '5', '6', '6']"
      ]
     },
     "execution_count": 15,
     "metadata": {},
     "output_type": "execute_result"
    }
   ],
   "source": [
    "skillsoft_student_id"
   ]
  }
 ],
 "metadata": {
  "colab": {
   "name": "Demo 03 - Tuple Tricks.ipynb",
   "provenance": []
  },
  "coursera": {
   "course_slug": "python-machine-learning",
   "graded_item_id": "f9SY5",
   "launcher_item_id": "oxndk",
   "part_id": "mh1Vo"
  },
  "kernelspec": {
   "display_name": "Python 3 (ipykernel)",
   "language": "python",
   "name": "python3"
  },
  "language_info": {
   "codemirror_mode": {
    "name": "ipython",
    "version": 3
   },
   "file_extension": ".py",
   "mimetype": "text/x-python",
   "name": "python",
   "nbconvert_exporter": "python",
   "pygments_lexer": "ipython3",
   "version": "3.9.7"
  }
 },
 "nbformat": 4,
 "nbformat_minor": 4
}
