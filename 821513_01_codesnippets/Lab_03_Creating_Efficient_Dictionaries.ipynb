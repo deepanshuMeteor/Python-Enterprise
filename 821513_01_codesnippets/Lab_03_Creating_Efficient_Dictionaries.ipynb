{
 "cells": [
  {
   "cell_type": "markdown",
   "metadata": {
    "id": "Atsfg1zBNbsF"
   },
   "source": [
    "# Lab 03: Creating Efficient Dictionaries"
   ]
  },
  {
   "cell_type": "markdown",
   "metadata": {
    "id": "83cD1TH6NbsG"
   },
   "source": [
    "In this lab activity, you will practice creating efficient dictionaries."
   ]
  },
  {
   "cell_type": "code",
   "execution_count": 18,
   "metadata": {
    "id": "ZLqQNHo-6cV2"
   },
   "outputs": [],
   "source": [
    "skillsoft_python = {'Python 01':'Basic', 'Python 03':'Advanced'}\n",
    "skillsoft_python_2 = {'Python 02':'Intermediate'}"
   ]
  },
  {
   "cell_type": "code",
   "execution_count": 19,
   "metadata": {},
   "outputs": [
    {
     "data": {
      "text/plain": [
       "{'Python 01': 'Basic', 'Python 03': 'Advanced', 'Python 02': 'Intermediate'}"
      ]
     },
     "execution_count": 19,
     "metadata": {},
     "output_type": "execute_result"
    }
   ],
   "source": [
    "skillsoft_python.update(skillsoft_python_2)\n",
    "skillsoft_python"
   ]
  },
  {
   "cell_type": "code",
   "execution_count": 36,
   "metadata": {},
   "outputs": [],
   "source": [
    "skillsoft_items = skillsoft_python.items()"
   ]
  },
  {
   "cell_type": "code",
   "execution_count": 37,
   "metadata": {
    "id": "_szxVAasNGr_"
   },
   "outputs": [],
   "source": [
    "skillsoft_sorted_python = sorted(skillsoft_items, key = lambda py: py[0])"
   ]
  },
  {
   "cell_type": "code",
   "execution_count": 38,
   "metadata": {},
   "outputs": [
    {
     "data": {
      "text/plain": [
       "[('Python 01', 'Basic'),\n",
       " ('Python 02', 'Intermediate'),\n",
       " ('Python 03', 'Advanced')]"
      ]
     },
     "execution_count": 38,
     "metadata": {},
     "output_type": "execute_result"
    }
   ],
   "source": [
    "skillsoft_sorted_python"
   ]
  },
  {
   "cell_type": "code",
   "execution_count": 39,
   "metadata": {},
   "outputs": [],
   "source": [
    "skillsoft_num = [10, 20]\n",
    "skillsoft_str = ['C','C++']"
   ]
  },
  {
   "cell_type": "code",
   "execution_count": 40,
   "metadata": {
    "id": "V9KvuIwVNeAB"
   },
   "outputs": [],
   "source": [
    "skillsoft_dict = zip(skillsoft_str, skillsoft_num)"
   ]
  }
 ],
 "metadata": {
  "colab": {
   "collapsed_sections": [],
   "name": "Lab_01_Paths.ipynb",
   "provenance": []
  },
  "coursera": {
   "course_slug": "python-machine-learning",
   "graded_item_id": "f9SY5",
   "launcher_item_id": "oxndk",
   "part_id": "mh1Vo"
  },
  "kernelspec": {
   "display_name": "Python 3 (ipykernel)",
   "language": "python",
   "name": "python3"
  },
  "language_info": {
   "codemirror_mode": {
    "name": "ipython",
    "version": 3
   },
   "file_extension": ".py",
   "mimetype": "text/x-python",
   "name": "python",
   "nbconvert_exporter": "python",
   "pygments_lexer": "ipython3",
   "version": "3.9.7"
  }
 },
 "nbformat": 4,
 "nbformat_minor": 4
}
