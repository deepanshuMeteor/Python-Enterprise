{
 "cells": [
  {
   "cell_type": "markdown",
   "metadata": {
    "id": "Atsfg1zBNbsF"
   },
   "source": [
    "# Demo 01 - String Handling"
   ]
  },
  {
   "cell_type": "markdown",
   "metadata": {
    "id": "83cD1TH6NbsG"
   },
   "source": [
    "We will go through practical ways of handling strings in your Python program."
   ]
  },
  {
   "cell_type": "markdown",
   "metadata": {
    "id": "2zsY8qSzNbsH"
   },
   "source": [
    "### Find and Replace"
   ]
  },
  {
   "cell_type": "code",
   "execution_count": 1,
   "metadata": {
    "id": "m8N-xNIgNbsH"
   },
   "outputs": [],
   "source": [
    "my_username = \"Enter your Username:\""
   ]
  },
  {
   "cell_type": "code",
   "execution_count": 2,
   "metadata": {
    "id": "4gZCpIpdbdYi"
   },
   "outputs": [],
   "source": [
    "my_keyword = \"Password\""
   ]
  },
  {
   "cell_type": "code",
   "execution_count": 3,
   "metadata": {
    "id": "vpf0cJVkbwcz"
   },
   "outputs": [],
   "source": [
    "to_replace = \"Username\""
   ]
  },
  {
   "cell_type": "code",
   "execution_count": 4,
   "metadata": {
    "id": "zATUTa9xbqsK"
   },
   "outputs": [],
   "source": [
    "my_password = my_username.replace(to_replace, my_keyword)"
   ]
  },
  {
   "cell_type": "code",
   "execution_count": 5,
   "metadata": {
    "colab": {
     "base_uri": "https://localhost:8080/",
     "height": 35
    },
    "id": "4x4WcGlpcWZR",
    "outputId": "698ff81b-b2a8-4042-880b-d056b5fc89cc"
   },
   "outputs": [
    {
     "data": {
      "text/plain": [
       "'Enter your Password:'"
      ]
     },
     "execution_count": 5,
     "metadata": {},
     "output_type": "execute_result"
    }
   ],
   "source": [
    "my_password"
   ]
  },
  {
   "cell_type": "markdown",
   "metadata": {
    "id": "2icZJjQrNbsI"
   },
   "source": [
    "### Divide & Conquer"
   ]
  },
  {
   "cell_type": "code",
   "execution_count": 6,
   "metadata": {
    "id": "XEMxOGDyNbsI"
   },
   "outputs": [],
   "source": [
    "usernames = \"mike123,ben99,jonny29,sam44\""
   ]
  },
  {
   "cell_type": "code",
   "execution_count": 7,
   "metadata": {
    "id": "J4NuYBn5e6eT"
   },
   "outputs": [],
   "source": [
    "usernames_list = []"
   ]
  },
  {
   "cell_type": "code",
   "execution_count": 8,
   "metadata": {
    "id": "Kp0sKcggfGkz"
   },
   "outputs": [],
   "source": [
    "usernames_list = usernames.split(\",\")"
   ]
  },
  {
   "cell_type": "code",
   "execution_count": 9,
   "metadata": {
    "colab": {
     "base_uri": "https://localhost:8080/"
    },
    "id": "wc0UC_z5fMWG",
    "outputId": "292cfe26-77cc-4e3b-9cb7-34498a7accc8"
   },
   "outputs": [
    {
     "data": {
      "text/plain": [
       "['mike123', 'ben99', 'jonny29', 'sam44']"
      ]
     },
     "execution_count": 9,
     "metadata": {},
     "output_type": "execute_result"
    }
   ],
   "source": [
    "usernames_list"
   ]
  },
  {
   "cell_type": "markdown",
   "metadata": {
    "id": "G_wyVS5FNbsJ"
   },
   "source": [
    "### Name Capitalizer "
   ]
  },
  {
   "cell_type": "code",
   "execution_count": 10,
   "metadata": {
    "id": "RlGQRD8WNbsJ"
   },
   "outputs": [],
   "source": [
    "full_names = \"mike ben,ben mike,jonny sam,sam jonny\""
   ]
  },
  {
   "cell_type": "code",
   "execution_count": 11,
   "metadata": {
    "id": "1jZYq0Shg1BC"
   },
   "outputs": [],
   "source": [
    "full_names_list = []"
   ]
  },
  {
   "cell_type": "code",
   "execution_count": 12,
   "metadata": {
    "id": "NciQR_d4g4-h"
   },
   "outputs": [],
   "source": [
    "full_names_list = full_names.split(\",\")"
   ]
  },
  {
   "cell_type": "code",
   "execution_count": 13,
   "metadata": {
    "colab": {
     "base_uri": "https://localhost:8080/"
    },
    "id": "iT_n-CMGg5BH",
    "outputId": "e06181a2-0814-4b9c-eec7-a66d8cdbe77b"
   },
   "outputs": [
    {
     "data": {
      "text/plain": [
       "['mike ben', 'ben mike', 'jonny sam', 'sam jonny']"
      ]
     },
     "execution_count": 13,
     "metadata": {},
     "output_type": "execute_result"
    }
   ],
   "source": [
    "full_names_list"
   ]
  },
  {
   "cell_type": "code",
   "execution_count": 14,
   "metadata": {
    "id": "owfxvpr1hAbI"
   },
   "outputs": [],
   "source": [
    "capitalized_full_names = [name.title() for name in full_names_list]"
   ]
  },
  {
   "cell_type": "code",
   "execution_count": 15,
   "metadata": {
    "colab": {
     "base_uri": "https://localhost:8080/"
    },
    "id": "vhT_qZmghVI8",
    "outputId": "45f8d169-6257-4ad4-84cb-6ce24cfad7c5"
   },
   "outputs": [
    {
     "data": {
      "text/plain": [
       "['Mike Ben', 'Ben Mike', 'Jonny Sam', 'Sam Jonny']"
      ]
     },
     "execution_count": 15,
     "metadata": {},
     "output_type": "execute_result"
    }
   ],
   "source": [
    "capitalized_full_names"
   ]
  },
  {
   "cell_type": "markdown",
   "metadata": {
    "id": "vyrmyqpzNbsJ"
   },
   "source": [
    "### Clean Input"
   ]
  },
  {
   "cell_type": "code",
   "execution_count": 16,
   "metadata": {
    "id": "568Kf1enNbsK"
   },
   "outputs": [],
   "source": [
    "user_email = \"      email@email.com      \""
   ]
  },
  {
   "cell_type": "code",
   "execution_count": 17,
   "metadata": {
    "colab": {
     "base_uri": "https://localhost:8080/",
     "height": 35
    },
    "id": "bRYvgpVMk7mG",
    "outputId": "8afda28c-aa43-4f8b-925d-670152aa62b8"
   },
   "outputs": [
    {
     "data": {
      "text/plain": [
       "'      email@email.com      '"
      ]
     },
     "execution_count": 17,
     "metadata": {},
     "output_type": "execute_result"
    }
   ],
   "source": [
    "user_email"
   ]
  },
  {
   "cell_type": "code",
   "execution_count": 18,
   "metadata": {
    "id": "pbXEITb3lE13"
   },
   "outputs": [],
   "source": [
    "clean_email = user_email.strip()"
   ]
  },
  {
   "cell_type": "code",
   "execution_count": 19,
   "metadata": {
    "colab": {
     "base_uri": "https://localhost:8080/",
     "height": 35
    },
    "id": "WycqL4qNlKIp",
    "outputId": "63cb5752-6781-4b55-c797-34259f88dbb8"
   },
   "outputs": [
    {
     "data": {
      "text/plain": [
       "'email@email.com'"
      ]
     },
     "execution_count": 19,
     "metadata": {},
     "output_type": "execute_result"
    }
   ],
   "source": [
    "clean_email"
   ]
  },
  {
   "cell_type": "markdown",
   "metadata": {
    "id": "NXMUaO7bNbsK"
   },
   "source": [
    "### String Logic\n",
    "\n"
   ]
  },
  {
   "cell_type": "code",
   "execution_count": 20,
   "metadata": {
    "id": "AkMmurQjluMP"
   },
   "outputs": [],
   "source": [
    "passoword = \"123456\""
   ]
  },
  {
   "cell_type": "code",
   "execution_count": 21,
   "metadata": {
    "id": "d68mTUodl_ak"
   },
   "outputs": [],
   "source": [
    "correct_password = \"123456789\""
   ]
  },
  {
   "cell_type": "code",
   "execution_count": 22,
   "metadata": {
    "id": "LC72sglOlyJJ"
   },
   "outputs": [],
   "source": [
    "login = [\"Success\" if passoword == correct_password else \"Incorrect Passowrd\"] "
   ]
  },
  {
   "cell_type": "code",
   "execution_count": 23,
   "metadata": {
    "colab": {
     "base_uri": "https://localhost:8080/"
    },
    "id": "Y0CfwFigmTsr",
    "outputId": "c5c3293c-88b0-4213-d8e0-50eb9ef359a5"
   },
   "outputs": [
    {
     "data": {
      "text/plain": [
       "['Incorrect Passowrd']"
      ]
     },
     "execution_count": 23,
     "metadata": {},
     "output_type": "execute_result"
    }
   ],
   "source": [
    "login"
   ]
  }
 ],
 "metadata": {
  "colab": {
   "name": "Demo 01 - String Handling.ipynb",
   "provenance": []
  },
  "coursera": {
   "course_slug": "python-machine-learning",
   "graded_item_id": "f9SY5",
   "launcher_item_id": "oxndk",
   "part_id": "mh1Vo"
  },
  "kernelspec": {
   "display_name": "Python 3 (ipykernel)",
   "language": "python",
   "name": "python3"
  },
  "language_info": {
   "codemirror_mode": {
    "name": "ipython",
    "version": 3
   },
   "file_extension": ".py",
   "mimetype": "text/x-python",
   "name": "python",
   "nbconvert_exporter": "python",
   "pygments_lexer": "ipython3",
   "version": "3.9.7"
  }
 },
 "nbformat": 4,
 "nbformat_minor": 4
}
