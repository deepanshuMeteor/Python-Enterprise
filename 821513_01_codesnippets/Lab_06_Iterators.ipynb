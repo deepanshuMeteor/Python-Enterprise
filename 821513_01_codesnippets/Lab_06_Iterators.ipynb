{
 "cells": [
  {
   "cell_type": "markdown",
   "metadata": {
    "id": "Atsfg1zBNbsF"
   },
   "source": [
    "# Lab 06: Iterators"
   ]
  },
  {
   "cell_type": "markdown",
   "metadata": {
    "id": "83cD1TH6NbsG"
   },
   "source": [
    "In this lab activity, you will practice handling iterators using Python."
   ]
  },
  {
   "cell_type": "code",
   "execution_count": 5,
   "metadata": {
    "id": "ZLqQNHo-6cV2"
   },
   "outputs": [],
   "source": [
    "skillsoft_lang = [\"C\", \"C++\", \"C#\", \"Python\", \"Java\", \"JavaScript\", \"PHP\", \"Ruby\"]"
   ]
  },
  {
   "cell_type": "code",
   "execution_count": 6,
   "metadata": {
    "id": "_szxVAasNGr_"
   },
   "outputs": [],
   "source": [
    "my_iterators = iter(skillsoft_lang)"
   ]
  },
  {
   "cell_type": "code",
   "execution_count": 7,
   "metadata": {
    "id": "V9KvuIwVNeAB"
   },
   "outputs": [],
   "source": [
    "first_lang = next(my_iterators)"
   ]
  },
  {
   "cell_type": "code",
   "execution_count": 8,
   "metadata": {
    "id": "kr9t03BjNzi4"
   },
   "outputs": [
    {
     "name": "stdout",
     "output_type": "stream",
     "text": [
      "C\n",
      "C++\n",
      "C#\n",
      "Python\n",
      "Java\n",
      "JavaScript\n",
      "PHP\n",
      "Ruby\n"
     ]
    }
   ],
   "source": [
    "for lang in skillsoft_lang:\n",
    "    print(lang)"
   ]
  }
 ],
 "metadata": {
  "colab": {
   "collapsed_sections": [],
   "name": "Lab_01_Paths.ipynb",
   "provenance": []
  },
  "coursera": {
   "course_slug": "python-machine-learning",
   "graded_item_id": "f9SY5",
   "launcher_item_id": "oxndk",
   "part_id": "mh1Vo"
  },
  "kernelspec": {
   "display_name": "Python 3 (ipykernel)",
   "language": "python",
   "name": "python3"
  },
  "language_info": {
   "codemirror_mode": {
    "name": "ipython",
    "version": 3
   },
   "file_extension": ".py",
   "mimetype": "text/x-python",
   "name": "python",
   "nbconvert_exporter": "python",
   "pygments_lexer": "ipython3",
   "version": "3.9.7"
  }
 },
 "nbformat": 4,
 "nbformat_minor": 4
}
