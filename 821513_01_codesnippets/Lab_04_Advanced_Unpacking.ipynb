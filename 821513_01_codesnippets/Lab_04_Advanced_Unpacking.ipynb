{
 "cells": [
  {
   "cell_type": "markdown",
   "metadata": {
    "id": "Atsfg1zBNbsF"
   },
   "source": [
    "# Lab 04: Advanced Unpacking"
   ]
  },
  {
   "cell_type": "markdown",
   "metadata": {
    "id": "83cD1TH6NbsG"
   },
   "source": [
    "In this lab activity, you will practice working with advanced unpacking."
   ]
  },
  {
   "cell_type": "code",
   "execution_count": 2,
   "metadata": {
    "id": "ZLqQNHo-6cV2"
   },
   "outputs": [],
   "source": [
    "skillsoft_courses = [\"C\", \"C++\", \"C#\", \"Python\", \"Java\", \"JavaScript\", \"PHP\", \"Ruby\"]"
   ]
  },
  {
   "cell_type": "code",
   "execution_count": 3,
   "metadata": {
    "id": "_szxVAasNGr_"
   },
   "outputs": [],
   "source": [
    "course_01, course_02, course_03, course_04, *part_05 = skillsoft_courses"
   ]
  },
  {
   "cell_type": "code",
   "execution_count": 4,
   "metadata": {
    "id": "V9KvuIwVNeAB"
   },
   "outputs": [
    {
     "data": {
      "text/plain": [
       "['Java', 'JavaScript', 'PHP', 'Ruby']"
      ]
     },
     "execution_count": 4,
     "metadata": {},
     "output_type": "execute_result"
    }
   ],
   "source": [
    "part_05"
   ]
  },
  {
   "cell_type": "code",
   "execution_count": 5,
   "metadata": {
    "id": "kr9t03BjNzi4"
   },
   "outputs": [],
   "source": [
    "skillsoft_name = {'First': 'Last'}"
   ]
  },
  {
   "cell_type": "code",
   "execution_count": 11,
   "metadata": {
    "colab": {
     "base_uri": "https://localhost:8080/"
    },
    "id": "1EeRgZeAODCS",
    "outputId": "0c450458-a276-4caa-9c85-7f71c16b4367"
   },
   "outputs": [],
   "source": [
    "def skillsoft_names(First):\n",
    "    print(First)"
   ]
  },
  {
   "cell_type": "code",
   "execution_count": 12,
   "metadata": {},
   "outputs": [
    {
     "name": "stdout",
     "output_type": "stream",
     "text": [
      "Last\n"
     ]
    }
   ],
   "source": [
    "skillsoft_names(**skillsoft_name)"
   ]
  }
 ],
 "metadata": {
  "colab": {
   "collapsed_sections": [],
   "name": "Lab_01_Paths.ipynb",
   "provenance": []
  },
  "coursera": {
   "course_slug": "python-machine-learning",
   "graded_item_id": "f9SY5",
   "launcher_item_id": "oxndk",
   "part_id": "mh1Vo"
  },
  "kernelspec": {
   "display_name": "Python 3 (ipykernel)",
   "language": "python",
   "name": "python3"
  },
  "language_info": {
   "codemirror_mode": {
    "name": "ipython",
    "version": 3
   },
   "file_extension": ".py",
   "mimetype": "text/x-python",
   "name": "python",
   "nbconvert_exporter": "python",
   "pygments_lexer": "ipython3",
   "version": "3.9.7"
  }
 },
 "nbformat": 4,
 "nbformat_minor": 4
}
