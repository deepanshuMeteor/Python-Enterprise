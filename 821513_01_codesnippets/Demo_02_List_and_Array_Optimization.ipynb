{
 "cells": [
  {
   "cell_type": "markdown",
   "metadata": {
    "id": "Atsfg1zBNbsF"
   },
   "source": [
    "# Demo 02 - List and Array Optimization"
   ]
  },
  {
   "cell_type": "markdown",
   "metadata": {
    "id": "83cD1TH6NbsG"
   },
   "source": [
    "We will go through practical ways of optimizing lists using Python."
   ]
  },
  {
   "cell_type": "markdown",
   "metadata": {
    "id": "2zsY8qSzNbsH"
   },
   "source": [
    "### Optimized Sort"
   ]
  },
  {
   "cell_type": "code",
   "execution_count": 1,
   "metadata": {
    "id": "pFBINHTbBKvd"
   },
   "outputs": [],
   "source": [
    "my_list = [42, 52, 32, 21, 92]"
   ]
  },
  {
   "cell_type": "code",
   "execution_count": 2,
   "metadata": {
    "colab": {
     "base_uri": "https://localhost:8080/"
    },
    "id": "m8N-xNIgNbsH",
    "outputId": "3172a9d2-24ff-4a94-e899-3828fe699e44"
   },
   "outputs": [
    {
     "name": "stdout",
     "output_type": "stream",
     "text": [
      "76.1 ns ± 5.84 ns per loop (mean ± std. dev. of 7 runs, 10000000 loops each)\n"
     ]
    }
   ],
   "source": [
    "%timeit my_list.sort()"
   ]
  },
  {
   "cell_type": "markdown",
   "metadata": {
    "id": "2icZJjQrNbsI"
   },
   "source": [
    "### Optimized Reverse"
   ]
  },
  {
   "cell_type": "code",
   "execution_count": 3,
   "metadata": {
    "id": "XEMxOGDyNbsI"
   },
   "outputs": [],
   "source": [
    "my_list = [42, 52, 32, 21, 92]"
   ]
  },
  {
   "cell_type": "code",
   "execution_count": 4,
   "metadata": {
    "id": "eHhKggwCWZCz"
   },
   "outputs": [],
   "source": [
    "my_list.reverse()"
   ]
  },
  {
   "cell_type": "code",
   "execution_count": 5,
   "metadata": {
    "colab": {
     "base_uri": "https://localhost:8080/"
    },
    "id": "2zsexlWlWZja",
    "outputId": "7284a2e2-34ee-40e9-cd07-d3c4c03cf1f7"
   },
   "outputs": [
    {
     "data": {
      "text/plain": [
       "[92, 21, 32, 52, 42]"
      ]
     },
     "execution_count": 5,
     "metadata": {},
     "output_type": "execute_result"
    }
   ],
   "source": [
    "my_list"
   ]
  },
  {
   "cell_type": "markdown",
   "metadata": {
    "id": "G_wyVS5FNbsJ"
   },
   "source": [
    "### Optimized Combined List"
   ]
  },
  {
   "cell_type": "code",
   "execution_count": 6,
   "metadata": {
    "id": "2-gx4AYGXX9n"
   },
   "outputs": [],
   "source": [
    "my_ids = [6002, 6003, 6004]"
   ]
  },
  {
   "cell_type": "code",
   "execution_count": 7,
   "metadata": {
    "id": "MKkvwLg_XlNX"
   },
   "outputs": [],
   "source": [
    "my_names = [\"Mario\", \"Sam\", \"Mike\"]"
   ]
  },
  {
   "cell_type": "code",
   "execution_count": 8,
   "metadata": {
    "id": "fAgkBIBMXwNJ"
   },
   "outputs": [],
   "source": [
    "my_id_name = zip(my_ids, my_names)"
   ]
  },
  {
   "cell_type": "code",
   "execution_count": 9,
   "metadata": {
    "colab": {
     "base_uri": "https://localhost:8080/"
    },
    "id": "zu5OD3PkYB2o",
    "outputId": "ad14cbe2-9436-4fc6-d82a-bf45da15d2c7"
   },
   "outputs": [
    {
     "name": "stdout",
     "output_type": "stream",
     "text": [
      "6002 Mario\n",
      "6003 Sam\n",
      "6004 Mike\n"
     ]
    }
   ],
   "source": [
    "for name, id in my_id_name:\n",
    "    print(name, id)"
   ]
  },
  {
   "cell_type": "markdown",
   "metadata": {
    "id": "JQxlHdmqXO_h"
   },
   "source": [
    "### Optimized Finder"
   ]
  },
  {
   "cell_type": "code",
   "execution_count": 10,
   "metadata": {
    "id": "TFeLetlsXV-Z"
   },
   "outputs": [],
   "source": [
    "my_names = [\"Mario\", \"Sam\", \"Mike\"]"
   ]
  },
  {
   "cell_type": "code",
   "execution_count": 11,
   "metadata": {
    "id": "ts-QIPP5YTqP"
   },
   "outputs": [],
   "source": [
    "find = \"Mario\""
   ]
  },
  {
   "cell_type": "code",
   "execution_count": 12,
   "metadata": {
    "colab": {
     "base_uri": "https://localhost:8080/"
    },
    "id": "O63pBDB9YYRs",
    "outputId": "f9d110d3-4543-47ba-aef8-2bd8399cc56e"
   },
   "outputs": [
    {
     "name": "stdout",
     "output_type": "stream",
     "text": [
      "True\n"
     ]
    }
   ],
   "source": [
    "print(find in my_names)"
   ]
  }
 ],
 "metadata": {
  "colab": {
   "name": "Demo 02 - List and Array Optimization.ipynb",
   "provenance": []
  },
  "coursera": {
   "course_slug": "python-machine-learning",
   "graded_item_id": "f9SY5",
   "launcher_item_id": "oxndk",
   "part_id": "mh1Vo"
  },
  "kernelspec": {
   "display_name": "Python 3 (ipykernel)",
   "language": "python",
   "name": "python3"
  },
  "language_info": {
   "codemirror_mode": {
    "name": "ipython",
    "version": 3
   },
   "file_extension": ".py",
   "mimetype": "text/x-python",
   "name": "python",
   "nbconvert_exporter": "python",
   "pygments_lexer": "ipython3",
   "version": "3.9.7"
  }
 },
 "nbformat": 4,
 "nbformat_minor": 4
}
