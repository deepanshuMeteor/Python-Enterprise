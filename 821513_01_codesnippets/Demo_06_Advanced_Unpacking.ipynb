{
 "cells": [
  {
   "cell_type": "markdown",
   "metadata": {
    "id": "Atsfg1zBNbsF"
   },
   "source": [
    "# Demo 06 - Advanced Unpacking"
   ]
  },
  {
   "cell_type": "markdown",
   "metadata": {
    "id": "83cD1TH6NbsG"
   },
   "source": [
    "We will go through practical ways of advanced unpacking using Python."
   ]
  },
  {
   "cell_type": "markdown",
   "metadata": {
    "id": "2zsY8qSzNbsH",
    "tags": []
   },
   "source": [
    "### List Unpacking"
   ]
  },
  {
   "cell_type": "code",
   "execution_count": 1,
   "metadata": {
    "id": "m8N-xNIgNbsH"
   },
   "outputs": [],
   "source": [
    "my_list = [42, 52, 32, 21, 92]"
   ]
  },
  {
   "cell_type": "code",
   "execution_count": 2,
   "metadata": {
    "colab": {
     "base_uri": "https://localhost:8080/"
    },
    "id": "MTq7LP-Ugl2o",
    "outputId": "eac0b17a-a6b1-4a69-d24f-273ba8f7ffa9"
   },
   "outputs": [],
   "source": [
    "number_01, number_02, *part_03 = my_list"
   ]
  },
  {
   "cell_type": "code",
   "execution_count": 4,
   "metadata": {},
   "outputs": [
    {
     "name": "stdout",
     "output_type": "stream",
     "text": [
      "42 52\n"
     ]
    }
   ],
   "source": [
    "print(number_01, number_02)"
   ]
  },
  {
   "cell_type": "code",
   "execution_count": 5,
   "metadata": {},
   "outputs": [
    {
     "data": {
      "text/plain": [
       "[32, 21, 92]"
      ]
     },
     "execution_count": 5,
     "metadata": {},
     "output_type": "execute_result"
    }
   ],
   "source": [
    "part_03"
   ]
  },
  {
   "cell_type": "markdown",
   "metadata": {
    "id": "2icZJjQrNbsI",
    "tags": []
   },
   "source": [
    "### Dictionary Unpacking"
   ]
  },
  {
   "cell_type": "code",
   "execution_count": 6,
   "metadata": {
    "id": "XEMxOGDyNbsI"
   },
   "outputs": [],
   "source": [
    "skillsoft_courses = {'Basic': 200, 'Advanced':200}"
   ]
  },
  {
   "cell_type": "code",
   "execution_count": 7,
   "metadata": {
    "id": "HB5AV1F0kqX7"
   },
   "outputs": [],
   "source": [
    "def skillsoft_print(Basic, Advanced):\n",
    "    print(Basic, Advanced)"
   ]
  },
  {
   "cell_type": "code",
   "execution_count": 8,
   "metadata": {
    "colab": {
     "base_uri": "https://localhost:8080/"
    },
    "id": "adL0dwdPk2P_",
    "outputId": "d47a5253-c141-45cd-9b8e-4f63740e3ef4"
   },
   "outputs": [
    {
     "name": "stdout",
     "output_type": "stream",
     "text": [
      "200 200\n"
     ]
    }
   ],
   "source": [
    "skillsoft_print(**skillsoft_courses)"
   ]
  }
 ],
 "metadata": {
  "colab": {
   "name": "Demo 03 - Tuple Tricks.ipynb",
   "provenance": []
  },
  "coursera": {
   "course_slug": "python-machine-learning",
   "graded_item_id": "f9SY5",
   "launcher_item_id": "oxndk",
   "part_id": "mh1Vo"
  },
  "kernelspec": {
   "display_name": "Python 3 (ipykernel)",
   "language": "python",
   "name": "python3"
  },
  "language_info": {
   "codemirror_mode": {
    "name": "ipython",
    "version": 3
   },
   "file_extension": ".py",
   "mimetype": "text/x-python",
   "name": "python",
   "nbconvert_exporter": "python",
   "pygments_lexer": "ipython3",
   "version": "3.9.7"
  }
 },
 "nbformat": 4,
 "nbformat_minor": 4
}
