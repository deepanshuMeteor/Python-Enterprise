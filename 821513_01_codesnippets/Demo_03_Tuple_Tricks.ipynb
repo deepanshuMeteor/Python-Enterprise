{
 "cells": [
  {
   "cell_type": "markdown",
   "metadata": {
    "id": "Atsfg1zBNbsF"
   },
   "source": [
    "# Demo 03 - Tuple Tricks"
   ]
  },
  {
   "cell_type": "markdown",
   "metadata": {
    "id": "83cD1TH6NbsG"
   },
   "source": [
    "We will go through practical ways of optimizing tuples using Python."
   ]
  },
  {
   "cell_type": "markdown",
   "metadata": {
    "id": "2zsY8qSzNbsH"
   },
   "source": [
    "### Single Value"
   ]
  },
  {
   "cell_type": "code",
   "execution_count": 1,
   "metadata": {
    "id": "m8N-xNIgNbsH"
   },
   "outputs": [],
   "source": [
    "my_tuple = (\"Sam\",)"
   ]
  },
  {
   "cell_type": "code",
   "execution_count": 2,
   "metadata": {
    "colab": {
     "base_uri": "https://localhost:8080/"
    },
    "id": "MTq7LP-Ugl2o",
    "outputId": "eac0b17a-a6b1-4a69-d24f-273ba8f7ffa9"
   },
   "outputs": [
    {
     "data": {
      "text/plain": [
       "('Sam',)"
      ]
     },
     "execution_count": 2,
     "metadata": {},
     "output_type": "execute_result"
    }
   ],
   "source": [
    "my_tuple"
   ]
  },
  {
   "cell_type": "markdown",
   "metadata": {
    "id": "2icZJjQrNbsI"
   },
   "source": [
    "### Quick Unpacking"
   ]
  },
  {
   "cell_type": "code",
   "execution_count": 3,
   "metadata": {
    "id": "XEMxOGDyNbsI"
   },
   "outputs": [],
   "source": [
    "my_tuples = (\"Mike\", \"John\", \"Sam\")"
   ]
  },
  {
   "cell_type": "code",
   "execution_count": 4,
   "metadata": {
    "id": "HB5AV1F0kqX7"
   },
   "outputs": [],
   "source": [
    "student_1, student_2, student_3 = my_tuples"
   ]
  },
  {
   "cell_type": "code",
   "execution_count": 5,
   "metadata": {
    "colab": {
     "base_uri": "https://localhost:8080/"
    },
    "id": "adL0dwdPk2P_",
    "outputId": "d47a5253-c141-45cd-9b8e-4f63740e3ef4"
   },
   "outputs": [
    {
     "name": "stdout",
     "output_type": "stream",
     "text": [
      "Sam\n"
     ]
    }
   ],
   "source": [
    "print(student_3)"
   ]
  },
  {
   "cell_type": "markdown",
   "metadata": {
    "id": "G_wyVS5FNbsJ"
   },
   "source": [
    "### Quick Finder"
   ]
  },
  {
   "cell_type": "code",
   "execution_count": 6,
   "metadata": {
    "id": "RlGQRD8WNbsJ"
   },
   "outputs": [],
   "source": [
    "my_tuples = (\"Mike\", \"John\", \"Sam\")"
   ]
  },
  {
   "cell_type": "code",
   "execution_count": 7,
   "metadata": {
    "id": "6bsLGxlklDW4"
   },
   "outputs": [],
   "source": [
    "find = \"Sam\""
   ]
  },
  {
   "cell_type": "code",
   "execution_count": 8,
   "metadata": {
    "id": "QbD9LOIUlK9q"
   },
   "outputs": [],
   "source": [
    "index = my_tuples.index(find)"
   ]
  },
  {
   "cell_type": "code",
   "execution_count": 9,
   "metadata": {
    "colab": {
     "base_uri": "https://localhost:8080/"
    },
    "id": "PSwafGWelSQ5",
    "outputId": "589342f5-3634-4897-fbfb-6ae039a09313"
   },
   "outputs": [
    {
     "name": "stdout",
     "output_type": "stream",
     "text": [
      "2\n"
     ]
    }
   ],
   "source": [
    "print(index)"
   ]
  },
  {
   "cell_type": "markdown",
   "metadata": {
    "id": "vyrmyqpzNbsJ"
   },
   "source": [
    "### Advanced Unpacking"
   ]
  },
  {
   "cell_type": "code",
   "execution_count": 10,
   "metadata": {
    "id": "568Kf1enNbsK"
   },
   "outputs": [],
   "source": [
    "my_tuples = (\"Mike\", \"John\", \"Sam\")"
   ]
  },
  {
   "cell_type": "code",
   "execution_count": 11,
   "metadata": {
    "id": "8-i8_TzIlkVE"
   },
   "outputs": [],
   "source": [
    "student_1, *class_2 = my_tuples"
   ]
  },
  {
   "cell_type": "code",
   "execution_count": 12,
   "metadata": {
    "colab": {
     "base_uri": "https://localhost:8080/"
    },
    "id": "-ElzPWyzlke4",
    "outputId": "44496fb1-5da5-4bf7-dfb2-efd7a06ee3fd"
   },
   "outputs": [
    {
     "name": "stdout",
     "output_type": "stream",
     "text": [
      "['John', 'Sam']\n"
     ]
    }
   ],
   "source": [
    "print(class_2)"
   ]
  }
 ],
 "metadata": {
  "colab": {
   "name": "Demo 03 - Tuple Tricks.ipynb",
   "provenance": []
  },
  "coursera": {
   "course_slug": "python-machine-learning",
   "graded_item_id": "f9SY5",
   "launcher_item_id": "oxndk",
   "part_id": "mh1Vo"
  },
  "kernelspec": {
   "display_name": "Python 3 (ipykernel)",
   "language": "python",
   "name": "python3"
  },
  "language_info": {
   "codemirror_mode": {
    "name": "ipython",
    "version": 3
   },
   "file_extension": ".py",
   "mimetype": "text/x-python",
   "name": "python",
   "nbconvert_exporter": "python",
   "pygments_lexer": "ipython3",
   "version": "3.9.7"
  }
 },
 "nbformat": 4,
 "nbformat_minor": 4
}
