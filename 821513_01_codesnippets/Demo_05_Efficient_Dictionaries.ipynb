{
 "cells": [
  {
   "cell_type": "markdown",
   "metadata": {
    "id": "Atsfg1zBNbsF"
   },
   "source": [
    "# Demo 05 - Efficient Dictionaries"
   ]
  },
  {
   "cell_type": "markdown",
   "metadata": {
    "id": "83cD1TH6NbsG"
   },
   "source": [
    "We will go through practical ways of optimizing dictionaries using Python."
   ]
  },
  {
   "cell_type": "markdown",
   "metadata": {
    "id": "2zsY8qSzNbsH"
   },
   "source": [
    "### Combine Dictionaries"
   ]
  },
  {
   "cell_type": "code",
   "execution_count": 17,
   "metadata": {
    "id": "m8N-xNIgNbsH"
   },
   "outputs": [],
   "source": [
    "skillsoft_courses = {'Python':100, 'Java':200}"
   ]
  },
  {
   "cell_type": "code",
   "execution_count": 18,
   "metadata": {},
   "outputs": [],
   "source": [
    "skillsoft_new_courses  = {'Ruby':300}"
   ]
  },
  {
   "cell_type": "code",
   "execution_count": 19,
   "metadata": {
    "colab": {
     "base_uri": "https://localhost:8080/"
    },
    "id": "MTq7LP-Ugl2o",
    "outputId": "eac0b17a-a6b1-4a69-d24f-273ba8f7ffa9"
   },
   "outputs": [],
   "source": [
    "skillsoft_new_courses.update(skillsoft_courses)"
   ]
  },
  {
   "cell_type": "code",
   "execution_count": 20,
   "metadata": {},
   "outputs": [
    {
     "data": {
      "text/plain": [
       "{'Ruby': 300, 'Python': 100, 'Java': 200}"
      ]
     },
     "execution_count": 20,
     "metadata": {},
     "output_type": "execute_result"
    }
   ],
   "source": [
    "skillsoft_new_courses"
   ]
  },
  {
   "cell_type": "markdown",
   "metadata": {
    "id": "2icZJjQrNbsI"
   },
   "source": [
    "### Unpack Elements"
   ]
  },
  {
   "cell_type": "code",
   "execution_count": 21,
   "metadata": {
    "id": "XEMxOGDyNbsI"
   },
   "outputs": [],
   "source": [
    "skillsoft_courses = {'Python':100, 'Java':200}"
   ]
  },
  {
   "cell_type": "code",
   "execution_count": 22,
   "metadata": {
    "id": "HB5AV1F0kqX7"
   },
   "outputs": [],
   "source": [
    "def skillsoft_print(Python, Java):\n",
    "    print(Python, Java)"
   ]
  },
  {
   "cell_type": "code",
   "execution_count": 23,
   "metadata": {
    "colab": {
     "base_uri": "https://localhost:8080/"
    },
    "id": "adL0dwdPk2P_",
    "outputId": "d47a5253-c141-45cd-9b8e-4f63740e3ef4"
   },
   "outputs": [
    {
     "name": "stdout",
     "output_type": "stream",
     "text": [
      "100 200\n"
     ]
    }
   ],
   "source": [
    "skillsoft_print(**skillsoft_courses)"
   ]
  },
  {
   "cell_type": "markdown",
   "metadata": {
    "id": "G_wyVS5FNbsJ"
   },
   "source": [
    "### Sort Key-value Pairs"
   ]
  },
  {
   "cell_type": "code",
   "execution_count": 24,
   "metadata": {
    "id": "RlGQRD8WNbsJ"
   },
   "outputs": [],
   "source": [
    "skillsoft_courses = {'Basic Python':100, 'Advanced Java':200}"
   ]
  },
  {
   "cell_type": "code",
   "execution_count": 25,
   "metadata": {},
   "outputs": [],
   "source": [
    "course_items = skillsoft_courses.items()"
   ]
  },
  {
   "cell_type": "code",
   "execution_count": 26,
   "metadata": {
    "id": "6bsLGxlklDW4"
   },
   "outputs": [],
   "source": [
    "skillsoft_sorted = sorted(course_items, key = lambda course: course[1])"
   ]
  },
  {
   "cell_type": "code",
   "execution_count": 27,
   "metadata": {
    "id": "QbD9LOIUlK9q"
   },
   "outputs": [
    {
     "data": {
      "text/plain": [
       "[('Basic Python', 100), ('Advanced Java', 200)]"
      ]
     },
     "execution_count": 27,
     "metadata": {},
     "output_type": "execute_result"
    }
   ],
   "source": [
    "skillsoft_sorted"
   ]
  },
  {
   "cell_type": "markdown",
   "metadata": {
    "id": "vyrmyqpzNbsJ"
   },
   "source": [
    "### Combine Two Lists"
   ]
  },
  {
   "cell_type": "code",
   "execution_count": 28,
   "metadata": {
    "id": "568Kf1enNbsK"
   },
   "outputs": [],
   "source": [
    "skillsoft_courses = ['Basic Python', 'Advanced Java']"
   ]
  },
  {
   "cell_type": "code",
   "execution_count": 29,
   "metadata": {},
   "outputs": [],
   "source": [
    "skillsoft_students = [200, 100]"
   ]
  },
  {
   "cell_type": "code",
   "execution_count": 30,
   "metadata": {
    "id": "8-i8_TzIlkVE"
   },
   "outputs": [],
   "source": [
    "skillsoft_classes = zip(skillsoft_courses, skillsoft_students)"
   ]
  },
  {
   "cell_type": "code",
   "execution_count": 31,
   "metadata": {
    "colab": {
     "base_uri": "https://localhost:8080/"
    },
    "id": "-ElzPWyzlke4",
    "outputId": "44496fb1-5da5-4bf7-dfb2-efd7a06ee3fd"
   },
   "outputs": [],
   "source": [
    "skillsoft_classes = dict(skillsoft_classes)"
   ]
  },
  {
   "cell_type": "code",
   "execution_count": 32,
   "metadata": {},
   "outputs": [
    {
     "data": {
      "text/plain": [
       "{'Basic Python': 200, 'Advanced Java': 100}"
      ]
     },
     "execution_count": 32,
     "metadata": {},
     "output_type": "execute_result"
    }
   ],
   "source": [
    "skillsoft_classes"
   ]
  }
 ],
 "metadata": {
  "colab": {
   "name": "Demo 03 - Tuple Tricks.ipynb",
   "provenance": []
  },
  "coursera": {
   "course_slug": "python-machine-learning",
   "graded_item_id": "f9SY5",
   "launcher_item_id": "oxndk",
   "part_id": "mh1Vo"
  },
  "kernelspec": {
   "display_name": "Python 3 (ipykernel)",
   "language": "python",
   "name": "python3"
  },
  "language_info": {
   "codemirror_mode": {
    "name": "ipython",
    "version": 3
   },
   "file_extension": ".py",
   "mimetype": "text/x-python",
   "name": "python",
   "nbconvert_exporter": "python",
   "pygments_lexer": "ipython3",
   "version": "3.9.7"
  }
 },
 "nbformat": 4,
 "nbformat_minor": 4
}
