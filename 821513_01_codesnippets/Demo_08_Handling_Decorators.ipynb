{
 "cells": [
  {
   "cell_type": "markdown",
   "metadata": {
    "id": "Atsfg1zBNbsF"
   },
   "source": [
    "# Demo 08 - Handling Decorators"
   ]
  },
  {
   "cell_type": "markdown",
   "metadata": {
    "id": "83cD1TH6NbsG"
   },
   "source": [
    "We will go through practical ways of handling decorators."
   ]
  },
  {
   "cell_type": "markdown",
   "metadata": {
    "id": "2zsY8qSzNbsH"
   },
   "source": [
    "### Decorators Classes"
   ]
  },
  {
   "cell_type": "code",
   "execution_count": 1,
   "metadata": {
    "id": "m8N-xNIgNbsH"
   },
   "outputs": [],
   "source": [
    "class AddDecorator:\n",
    " \n",
    "    def __init__(self, input):\n",
    "\n",
    "        self.input = input\n",
    " \n",
    "    def __call__(self, num1, num2):\n",
    "\n",
    "        output = self.input(num1, num2)\n",
    "        add_result = num1 + num2\n",
    "\n",
    "        return add_result"
   ]
  },
  {
   "cell_type": "markdown",
   "metadata": {
    "id": "2icZJjQrNbsI"
   },
   "source": [
    "### Decorators Functions"
   ]
  },
  {
   "cell_type": "code",
   "execution_count": 2,
   "metadata": {
    "id": "XEMxOGDyNbsI"
   },
   "outputs": [],
   "source": [
    "@AddDecorator\n",
    "def add(num1, num2):\n",
    "    return num1 + num2"
   ]
  },
  {
   "cell_type": "code",
   "execution_count": 3,
   "metadata": {
    "id": "CbSb8DaqlxAf"
   },
   "outputs": [],
   "source": [
    "num1 = 40\n",
    "num2 = 20"
   ]
  },
  {
   "cell_type": "code",
   "execution_count": 4,
   "metadata": {
    "colab": {
     "base_uri": "https://localhost:8080/"
    },
    "id": "NtUU2xaxl3UO",
    "outputId": "5331ffab-ae45-4c8d-e690-f1ff5d16e335"
   },
   "outputs": [
    {
     "data": {
      "text/plain": [
       "60"
      ]
     },
     "execution_count": 4,
     "metadata": {},
     "output_type": "execute_result"
    }
   ],
   "source": [
    "add(num1, num2)"
   ]
  },
  {
   "cell_type": "markdown",
   "metadata": {
    "id": "G_wyVS5FNbsJ"
   },
   "source": [
    "### Decorators Arguments"
   ]
  },
  {
   "cell_type": "code",
   "execution_count": 5,
   "metadata": {
    "id": "wo3UJe7rm3sC"
   },
   "outputs": [],
   "source": [
    "class AddDecorator:\n",
    "\n",
    "    def __init__(self, input):\n",
    "        self.input = input\n",
    "\n",
    "    def __call__(self, *args):\n",
    "        \n",
    "        output = self.input(*args)\n",
    "        return output"
   ]
  },
  {
   "cell_type": "code",
   "execution_count": 6,
   "metadata": {
    "id": "03F9-4GRoCMk"
   },
   "outputs": [],
   "source": [
    "@AddDecorator\n",
    "def add(num1, num2):\n",
    "    return num1 + num2"
   ]
  },
  {
   "cell_type": "code",
   "execution_count": 7,
   "metadata": {
    "colab": {
     "base_uri": "https://localhost:8080/"
    },
    "id": "6zwpdiRnoW1k",
    "outputId": "a545c0dc-e1cf-4019-96aa-af9a117919dc"
   },
   "outputs": [
    {
     "name": "stdout",
     "output_type": "stream",
     "text": [
      "110\n"
     ]
    }
   ],
   "source": [
    "print(add(10, 100))"
   ]
  },
  {
   "cell_type": "markdown",
   "metadata": {
    "id": "vyrmyqpzNbsJ"
   },
   "source": [
    "### Multi Decorators"
   ]
  },
  {
   "cell_type": "code",
   "execution_count": 8,
   "metadata": {
    "id": "XNiVDjJBNbsK"
   },
   "outputs": [],
   "source": [
    "class AddTwoDecorator:\n",
    " \n",
    "    def __init__(self, input):\n",
    "\n",
    "        self.input = input\n",
    " \n",
    "    def __call__(self, num1, num2, num3):\n",
    "\n",
    "        output = self.input(num1, num2, num3)\n",
    "        add_result = num1 + num2 + num3\n",
    "\n",
    "        return add_result"
   ]
  },
  {
   "cell_type": "code",
   "execution_count": 9,
   "metadata": {
    "id": "vXbTQG3enEsi"
   },
   "outputs": [],
   "source": [
    "@AddTwoDecorator\n",
    "@AddDecorator\n",
    "def add(num1, num2, num3):\n",
    "    return num1 + num2 + num3"
   ]
  },
  {
   "cell_type": "code",
   "execution_count": 10,
   "metadata": {
    "id": "2VQe8sngncOS"
   },
   "outputs": [],
   "source": [
    "num1 = 40\n",
    "num2 = 20\n",
    "num3 = 30"
   ]
  },
  {
   "cell_type": "code",
   "execution_count": 11,
   "metadata": {
    "colab": {
     "base_uri": "https://localhost:8080/"
    },
    "id": "DSfWkmQinNlZ",
    "outputId": "52be7277-4b01-4623-ffda-3eb05d480a8f"
   },
   "outputs": [
    {
     "name": "stdout",
     "output_type": "stream",
     "text": [
      "70\n"
     ]
    }
   ],
   "source": [
    "print(add(num2, num2, num3))"
   ]
  }
 ],
 "metadata": {
  "colab": {
   "collapsed_sections": [],
   "name": "Demo 05 - Handling Decorators.ipynb",
   "provenance": []
  },
  "coursera": {
   "course_slug": "python-machine-learning",
   "graded_item_id": "f9SY5",
   "launcher_item_id": "oxndk",
   "part_id": "mh1Vo"
  },
  "kernelspec": {
   "display_name": "Python 3 (ipykernel)",
   "language": "python",
   "name": "python3"
  },
  "language_info": {
   "codemirror_mode": {
    "name": "ipython",
    "version": 3
   },
   "file_extension": ".py",
   "mimetype": "text/x-python",
   "name": "python",
   "nbconvert_exporter": "python",
   "pygments_lexer": "ipython3",
   "version": "3.9.7"
  }
 },
 "nbformat": 4,
 "nbformat_minor": 4
}
